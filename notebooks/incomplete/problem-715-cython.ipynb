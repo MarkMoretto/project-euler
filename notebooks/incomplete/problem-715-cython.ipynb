{
 "cells": [
  {
   "cell_type": "code",
   "execution_count": 1,
   "metadata": {},
   "outputs": [],
   "source": [
    "%load_ext cython"
   ]
  },
  {
   "cell_type": "code",
   "execution_count": null,
   "metadata": {
    "scrolled": true
   },
   "outputs": [
    {
     "ename": "KeyboardInterrupt",
     "evalue": "",
     "output_type": "error",
     "traceback": [
      "\u001b[1;31m---------------------------------------------------------------------------\u001b[0m",
      "\u001b[1;31mKeyboardInterrupt\u001b[0m                         Traceback (most recent call last)",
      "\u001b[1;32m~\\AppData\\Local\\Programs\\Spyder\\venv\\lib\\site-packages\\numpy\\core\\_methods.py\u001b[0m in \u001b[0;36m_sum\u001b[1;34m(a, axis, dtype, out, keepdims, initial)\u001b[0m\n\u001b[0;32m     34\u001b[0m def _sum(a, axis=None, dtype=None, out=None, keepdims=False,\n\u001b[0;32m     35\u001b[0m          initial=_NoValue):\n\u001b[1;32m---> 36\u001b[1;33m     \u001b[1;32mreturn\u001b[0m \u001b[0mumr_sum\u001b[0m\u001b[1;33m(\u001b[0m\u001b[0ma\u001b[0m\u001b[1;33m,\u001b[0m \u001b[0maxis\u001b[0m\u001b[1;33m,\u001b[0m \u001b[0mdtype\u001b[0m\u001b[1;33m,\u001b[0m \u001b[0mout\u001b[0m\u001b[1;33m,\u001b[0m \u001b[0mkeepdims\u001b[0m\u001b[1;33m,\u001b[0m \u001b[0minitial\u001b[0m\u001b[1;33m)\u001b[0m\u001b[1;33m\u001b[0m\u001b[1;33m\u001b[0m\u001b[0m\n\u001b[0m\u001b[0;32m     37\u001b[0m \u001b[1;33m\u001b[0m\u001b[0m\n\u001b[0;32m     38\u001b[0m def _prod(a, axis=None, dtype=None, out=None, keepdims=False,\n",
      "\u001b[1;31mKeyboardInterrupt\u001b[0m: "
     ]
    },
    {
     "name": "stderr",
     "output_type": "stream",
     "text": [
      "Exception ignored in: '_cython_magic_0e72a48531cda8663de5e38a748a1f04.f'\n",
      "Traceback (most recent call last):\n",
      "  File \"C:\\Users\\Work1\\AppData\\Local\\Programs\\Spyder\\venv\\lib\\site-packages\\numpy\\core\\_methods.py\", line 36, in _sum\n",
      "    return umr_sum(a, axis, dtype, out, keepdims, initial)\n",
      "KeyboardInterrupt\n"
     ]
    }
   ],
   "source": [
    "%%cython -a\n",
    "\n",
    "import numpy as np\n",
    "from math import gcd\n",
    "import itertools as ittr\n",
    "from sympy.ntheory import totient\n",
    "\n",
    "\n",
    "cdef:\n",
    "    int MOD = np.uint32(1e9+7)\n",
    "    long[:] f_num_rng, k_rng, sq\n",
    "    unsigned long f_tot\n",
    "    double g_tot\n",
    "\n",
    "cdef double f(long n):\n",
    "    \n",
    "    f_tot = 0\n",
    "    \n",
    "    f_num_rng = np.arange(0, n)\n",
    "        \n",
    "    for i in ittr.product(f_num_rng, repeat=6):  \n",
    "        sq = np.square(np.array(i))\n",
    "        if np.gcd(sq.sum(), np.power(n, 2)) == 1:\n",
    "            f_tot += 1\n",
    "    return f_tot\n",
    "\n",
    "\n",
    "cdef double g_worker(long k_val):\n",
    "    cdef double numerator, denominator\n",
    "    numerator = f(k_val)\n",
    "    denominator = np.power(k_val, 2) * totient(k_val)\n",
    "    return numerator / denominator\n",
    "\n",
    "\n",
    "cdef double G(long gn):\n",
    "    g_tot = 0.\n",
    "    k_rng = np.arange(1, gn + 1)\n",
    "    \n",
    "    for k in k_rng:\n",
    "        g_tot += (g_worker(k) % MOD)\n",
    "\n",
    "    return g_tot\n",
    "\n",
    "\n",
    "\n",
    "cdef long N = np.uint32(1e5)\n",
    "cdef g_res\n",
    "\n",
    "g_res = G(N)\n",
    "\n",
    "print(g_res)"
   ]
  },
  {
   "cell_type": "code",
   "execution_count": null,
   "metadata": {},
   "outputs": [],
   "source": []
  }
 ],
 "metadata": {
  "kernelspec": {
   "display_name": "Python 3",
   "language": "python",
   "name": "python3"
  },
  "language_info": {
   "codemirror_mode": {
    "name": "ipython",
    "version": 3
   },
   "file_extension": ".py",
   "mimetype": "text/x-python",
   "name": "python",
   "nbconvert_exporter": "python",
   "pygments_lexer": "ipython3",
   "version": "3.7.4"
  }
 },
 "nbformat": 4,
 "nbformat_minor": 2
}
